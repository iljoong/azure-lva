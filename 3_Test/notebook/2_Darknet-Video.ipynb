{
 "cells": [
  {
   "cell_type": "markdown",
   "metadata": {},
   "source": [
    "## Darknet Video Test\n",
    "\n",
    "Using darknet build"
   ]
  },
  {
   "cell_type": "code",
   "execution_count": 1,
   "metadata": {},
   "outputs": [],
   "source": [
    "import requests\n",
    "import json\n",
    "from PIL import Image\n",
    "import cv2\n",
    "from io import BytesIO\n",
    "\n",
    "import time\n",
    "import io"
   ]
  },
  {
   "cell_type": "code",
   "execution_count": 2,
   "metadata": {},
   "outputs": [],
   "source": [
    "def darknet(frame):\n",
    "    url = \"http://localhost:44000/score\"\n",
    "    headers = {\"Content-Type\": \"image/jpeg\" }\n",
    "\n",
    "    try:\n",
    "        r = requests.post(url, headers=headers, data=frame)\n",
    "        j = json.loads(r.content.decode(\"utf-8\"))\n",
    "        return j\n",
    "    except:\n",
    "        return json.loads(\"{\\\"inferences\\\": []}\")"
   ]
  },
  {
   "cell_type": "code",
   "execution_count": 4,
   "metadata": {},
   "outputs": [
    {
     "name": "stdout",
     "output_type": "stream",
     "text": [
      "width: 640.0, height: 480.0\n"
     ]
    }
   ],
   "source": [
    "### capture camera\n",
    "cap = cv2.VideoCapture(0)\n",
    "#cap = cv2.VideoCapture(\"rtsp://<ip>\")\n",
    "\n",
    "print('width: {0}, height: {1}'.format(cap.get(3),cap.get(4)))\n",
    "cap.set(3,416)\n",
    "cap.set(4,416)\n",
    "\n",
    "prev_time = 0\n",
    "FPS = 2\n",
    "fbuff = None\n",
    "response = None\n",
    "\n",
    "while(True):\n",
    "    ret, frame = cap.read()\n",
    "    curr_time = time.time() - prev_time\n",
    "    if (ret) and (curr_time > 1./FPS):\n",
    "        prev_time = time.time()\n",
    "        \n",
    "        #gray = cv2.cvtColor(frame, cv2.COLOR_BGR2GRAY)       \n",
    "        fbuff = cv2.resize(frame, (416, 416), interpolation =cv2.INTER_AREA)\n",
    "        \n",
    "        # encode to jpg\n",
    "        is_success, buffer = cv2.imencode(\".jpg\", fbuff)\n",
    "        io_buf = io.BytesIO(buffer)\n",
    "        pred = darknet(io_buf)\n",
    "\n",
    "        # highlights\n",
    "        for p in pred[\"inferences\"]:\n",
    "            x = int(p[\"entity\"][\"box\"][\"l\"] * 416 * 640/416 + 0.5)\n",
    "            y = int(p[\"entity\"][\"box\"][\"t\"] * 416 * 480/416 + 0.5)\n",
    "            w = int(p[\"entity\"][\"box\"][\"w\"] * 416 * 640/416 + 0.5)\n",
    "            h = int(p[\"entity\"][\"box\"][\"h\"] * 416 * 480/416 + 0.5)\n",
    "            cv2.rectangle(frame, (x, y), (x+w, y+h), (255, 0, 0), 1) \n",
    "            cv2.putText(frame, \"%s\" % p[\"entity\"][\"tag\"][\"value\"], (x, y), cv2.FONT_HERSHEY_SIMPLEX, 1, (0, 255, 0), 2, cv2.LINE_AA)\n",
    "        cv2.imshow('frame', frame)\n",
    "            \n",
    "        if cv2.waitKey(1) & 0xFF == ord('q'):\n",
    "            break\n",
    "\n",
    "cap.release()\n",
    "cv2.destroyAllWindows()\n"
   ]
  }
 ],
 "metadata": {
  "kernelspec": {
   "display_name": "Python 3",
   "language": "python",
   "name": "python3"
  },
  "language_info": {
   "codemirror_mode": {
    "name": "ipython",
    "version": 3
   },
   "file_extension": ".py",
   "mimetype": "text/x-python",
   "name": "python",
   "nbconvert_exporter": "python",
   "pygments_lexer": "ipython3",
   "version": "3.7.6"
  }
 },
 "nbformat": 4,
 "nbformat_minor": 4
}
