{
 "cells": [
  {
   "cell_type": "markdown",
   "metadata": {},
   "source": [
    "## Yolo test\n",
    "\n",
    "LVA prep - Yolov3 Test\n",
    "\n",
    "### prep images\n",
    "\n",
    "> You need GPU enabled machine to run yolo\n",
    "\n",
    "get yolov3 image from microsoft and run it\n",
    "\n",
    "```\n",
    "docker pull mcr.microsoft.com/lva-utilities/lvaextension:http-yolov3-onnx-v1.0\n",
    "docker tag mcr.microsoft.com/lva-utilities/lvaextension:http-yolov3-onnx-v1.0 yolov3:latest\n",
    "\n",
    "docker run --name yolo -p 8088:80 -d yolov3\n",
    "```"
   ]
  },
  {
   "cell_type": "code",
   "execution_count": null,
   "metadata": {},
   "outputs": [],
   "source": [
    "# test image (416x416)\n",
    "\n",
    "!curl -s -X POST -H \"Content-Type:image/jpeg\" --data-binary @\"./sample/people.jpg\" localhost:8088/score | jq"
   ]
  },
  {
   "cell_type": "code",
   "execution_count": null,
   "metadata": {},
   "outputs": [],
   "source": [
    "import requests\n",
    "import json\n",
    "from PIL import Image\n",
    "import cv2\n",
    "from io import BytesIO"
   ]
  },
  {
   "cell_type": "code",
   "execution_count": null,
   "metadata": {},
   "outputs": [],
   "source": [
    "testimg = './sample/people.jpg'\n",
    "\n",
    "img = cv2.imread(testimg, cv2.IMREAD_COLOR)\n",
    "img = cv2.resize(img, (416, 416), interpolation = cv2.INTER_AREA)\n",
    "img = cv2.cvtColor(img, cv2.COLOR_BGR2RGB)\n",
    "pilimg = Image.fromarray(img)\n",
    "display(pilimg)"
   ]
  },
  {
   "cell_type": "code",
   "execution_count": null,
   "metadata": {},
   "outputs": [],
   "source": [
    "yolov3_url = \"http://localhost:8088/score\"\n",
    "headers = {\"Content-Type\": \"image/jpeg\" }\n",
    "\n",
    "with open(testimg, 'rb') as roi:\n",
    "    r = requests.post(yolov3_url, headers=headers, data=roi)\n",
    "    \n",
    "    pred = json.loads(r.content.decode(\"utf-8\"))"
   ]
  },
  {
   "cell_type": "code",
   "execution_count": null,
   "metadata": {},
   "outputs": [],
   "source": [
    "for p in pred[\"inferences\"]:\n",
    "    print(\"%s %.4f (%.2f, %.2f, %.2f, %.2f)\" % (p[\"entity\"][\"tag\"][\"value\"], p[\"entity\"][\"tag\"][\"confidence\"],\n",
    "        p[\"entity\"][\"box\"][\"l\"], p[\"entity\"][\"box\"][\"t\"], p[\"entity\"][\"box\"][\"w\"], p[\"entity\"][\"box\"][\"h\"]))"
   ]
  },
  {
   "cell_type": "code",
   "execution_count": null,
   "metadata": {},
   "outputs": [],
   "source": [
    "testimg = './sample/people.jpg'\n",
    "\n",
    "img = cv2.imread(testimg, cv2.IMREAD_COLOR)\n",
    "img = cv2.resize(img, (416, 416), interpolation = cv2.INTER_AREA)\n",
    "img = cv2.cvtColor(img, cv2.COLOR_BGR2RGB)\n",
    "\n",
    "for p in pred[\"inferences\"]:\n",
    "    x = int(p[\"entity\"][\"box\"][\"l\"] * 416 + 0.5)\n",
    "    y = int(p[\"entity\"][\"box\"][\"t\"] * 416 + 0.5)\n",
    "    w = int(p[\"entity\"][\"box\"][\"w\"] * 416 + 0.5)\n",
    "    h = int(p[\"entity\"][\"box\"][\"h\"] * 416 + 0.5)\n",
    "    \n",
    "    cv2.rectangle(img, (x, y), (x+w, y+h), (255, 0, 0), 1) \n",
    "    \n",
    "pilimg = Image.fromarray(img)\n",
    "display(pilimg)"
   ]
  },
  {
   "cell_type": "markdown",
   "metadata": {},
   "source": [
    "## Yolo video test\n",
    "\n",
    "Video capture from camera or rtsp souce\n",
    "\n",
    "- show list of camera device in linux (for selecting front/rear cam)\n",
    "```\n",
    "v4l2-ctl --list-devices\n",
    "```"
   ]
  },
  {
   "cell_type": "code",
   "execution_count": null,
   "metadata": {},
   "outputs": [],
   "source": [
    "import requests\n",
    "import json\n",
    "from PIL import Image\n",
    "import cv2\n",
    "from io import BytesIO\n",
    "\n",
    "import time\n",
    "import io"
   ]
  },
  {
   "cell_type": "code",
   "execution_count": null,
   "metadata": {},
   "outputs": [],
   "source": [
    "def yolov3(frame):\n",
    "    yolov3_url = \"http://localhost:8088/score\"\n",
    "    headers = {\"Content-Type\": \"image/jpeg\" }\n",
    "\n",
    "    try:\n",
    "        r = requests.post(yolov3_url, headers=headers, data=frame)\n",
    "        j = json.loads(r.content.decode(\"utf-8\"))\n",
    "        return j\n",
    "    except:\n",
    "        return json.loads(\"{\\\"inferences\\\": []}\")"
   ]
  },
  {
   "cell_type": "markdown",
   "metadata": {},
   "source": [
    "note: `cv2.VideoCapture` is numpy `ndarray`\n",
    "\n",
    "```\n",
    "import numpy as np\n",
    "print(frame.shape)\n",
    "```"
   ]
  },
  {
   "cell_type": "code",
   "execution_count": null,
   "metadata": {},
   "outputs": [],
   "source": [
    "### capture camera\n",
    "cap = cv2.VideoCapture(0)\n",
    "# cap = cv2.VideoCapture(rtsp://<ip>)\n",
    "print('width: {0}, height: {1}'.format(cap.get(3),cap.get(4)))\n",
    "cap.set(3,416)\n",
    "cap.set(4,416)\n",
    "\n",
    "prev_time = 0\n",
    "FPS = 30\n",
    "fbuff = None\n",
    "response = None\n",
    "\n",
    "while(True):\n",
    "    ret, frame = cap.read()\n",
    "    curr_time = time.time() - prev_time\n",
    "    if (ret) and (curr_time > 1./FPS):\n",
    "        prev_time = time.time()\n",
    "        \n",
    "        #gray = cv2.cvtColor(frame, cv2.COLOR_BGR2GRAY)       \n",
    "        fbuff = cv2.resize(frame, (416, 416), interpolation =cv2.INTER_AREA)\n",
    "        \n",
    "        # encode to jpg\n",
    "        is_success, buffer = cv2.imencode(\".jpg\", fbuff)\n",
    "        io_buf = io.BytesIO(buffer)\n",
    "        pred = yolov3(io_buf)\n",
    "\n",
    "        # highlights\n",
    "        for p in pred[\"inferences\"]:\n",
    "            x = int(p[\"entity\"][\"box\"][\"l\"] * 416 + 0.5)\n",
    "            y = int(p[\"entity\"][\"box\"][\"t\"] * 416 + 0.5)\n",
    "            w = int(p[\"entity\"][\"box\"][\"w\"] * 416 + 0.5)\n",
    "            h = int(p[\"entity\"][\"box\"][\"h\"] * 416 + 0.5)\n",
    "            cv2.rectangle(frame, (x, y), (x+w, y+h), (255, 0, 0), 1) \n",
    "            cv2.putText(frame, \"%s\" % p[\"entity\"][\"tag\"][\"value\"], (x, y), cv2.FONT_HERSHEY_SIMPLEX, 1, (0, 255, 0), 2, cv2.LINE_AA)\n",
    "        cv2.imshow('frame', frame)\n",
    "            \n",
    "        if cv2.waitKey(1) & 0xFF == ord('q'):\n",
    "            break\n",
    "\n",
    "cap.release()\n",
    "cv2.destroyAllWindows()\n"
   ]
  },
  {
   "cell_type": "code",
   "execution_count": null,
   "metadata": {},
   "outputs": [],
   "source": [
    "### capture camera\n",
    "cap = cv2.VideoCapture(0)\n",
    "# cap = cv2.VideoCapture(rtsp://<ip>)\n",
    "print('width: {0}, height: {1}'.format(cap.get(3),cap.get(4)))\n",
    "cap.set(3,416)\n",
    "cap.set(4,416)\n",
    "\n",
    "fbuff = None\n",
    "response = None\n",
    "\n",
    "while(True):\n",
    "    ret, frame = cap.read()\n",
    "\n",
    "    if (ret):\n",
    "       \n",
    "        #gray = cv2.cvtColor(frame, cv2.COLOR_BGR2GRAY)       \n",
    "        fbuff = cv2.resize(frame, (416, 416), interpolation =cv2.INTER_AREA)\n",
    "               \n",
    "        key = cv2.waitKey(1)\n",
    "        if key & 0xFF == ord('q'):\n",
    "            break\n",
    "        elif key & 0xFF == ord('p'):\n",
    "        # encode to jpg\n",
    "            is_success, buffer = cv2.imencode(\".jpg\", fbuff)\n",
    "            io_buf = io.BytesIO(buffer)\n",
    "            pred = yolov3(io_buf)\n",
    "\n",
    "            # highlights\n",
    "            for p in pred[\"inferences\"]:\n",
    "                x = int(p[\"entity\"][\"box\"][\"l\"] * 416 + 0.5)\n",
    "                y = int(p[\"entity\"][\"box\"][\"t\"] * 416 + 0.5)\n",
    "                w = int(p[\"entity\"][\"box\"][\"w\"] * 416 + 0.5)\n",
    "                h = int(p[\"entity\"][\"box\"][\"h\"] * 416 + 0.5)\n",
    "                cv2.rectangle(fbuff, (x, y), (x+w, y+h), (255, 0, 0), 1) \n",
    "                cv2.putText(fbuff, \"%s\" % p[\"entity\"][\"tag\"][\"value\"], (x, y), cv2.FONT_HERSHEY_SIMPLEX, 1, (0, 255, 0), 2, cv2.LINE_AA)\n",
    "        \n",
    "                pilimg = Image.fromarray(fbuff)\n",
    "                display(pilimg)\n",
    "\n",
    "        cv2.imshow('frame', frame)     \n",
    "\n",
    "cap.release()\n",
    "cv2.destroyAllWindows()"
   ]
  }
 ],
 "metadata": {
  "kernelspec": {
   "display_name": "Python 3",
   "language": "python",
   "name": "python3"
  },
  "language_info": {
   "codemirror_mode": {
    "name": "ipython",
    "version": 3
   },
   "file_extension": ".py",
   "mimetype": "text/x-python",
   "name": "python",
   "nbconvert_exporter": "python",
   "pygments_lexer": "ipython3",
   "version": "3.7.6"
  }
 },
 "nbformat": 4,
 "nbformat_minor": 4
}
