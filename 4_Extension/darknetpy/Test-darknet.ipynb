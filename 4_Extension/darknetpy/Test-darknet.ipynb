{
 "cells": [
  {
   "cell_type": "code",
   "execution_count": 11,
   "metadata": {},
   "outputs": [],
   "source": [
    "from ctypes import *\n",
    "import math\n",
    "import random\n",
    "import os\n",
    "import cv2\n",
    "import numpy as np\n",
    "import time\n",
    "import json\n",
    "\n",
    "import darknet\n",
    "\n",
    "from datetime import datetime\n",
    "import matplotlib.pyplot as plt\n",
    "from PIL import Image"
   ]
  },
  {
   "cell_type": "code",
   "execution_count": 2,
   "metadata": {},
   "outputs": [],
   "source": [
    "FLAGS = {\n",
    "    'HELMET_DRAW_ENABLED' : True,\n",
    "    'SAVE_ON_NEW_HEAD' : True,\n",
    "    'SHOW_ORIGINAL_IMAGE' : True,\n",
    "    'SHOW_FPS' : True\n",
    "}\n",
    "\n",
    "def resizeDetections(original_image_shape, network_image_size, detections):\n",
    "    resize_ratio = (original_image_shape[1]/network_image_size[0], original_image_shape[0]/network_image_size[1])\n",
    "    resized_detections = []\n",
    "    for detection in detections:\n",
    "        resized_detections.append(\n",
    "            (\n",
    "                detection[0],\n",
    "                detection[1],\n",
    "                (\n",
    "                detection[2][0] * resize_ratio[0],\n",
    "                detection[2][1] * resize_ratio[1],\n",
    "                detection[2][2] * resize_ratio[0],\n",
    "                detection[2][3] * resize_ratio[1]\n",
    "                )\n",
    "            )\n",
    "        )\n",
    "    return resized_detections\n",
    "    \n",
    "\n",
    "def convertBack(x, y, w, h):\n",
    "    xmin = int(round(x - (w / 2)))\n",
    "    xmax = int(round(x + (w / 2)))\n",
    "    ymin = int(round(y - (h / 2)))\n",
    "    ymax = int(round(y + (h / 2)))\n",
    "    return xmin, ymin, xmax, ymax\n",
    "\n",
    "def cvDrawBoxes(detections, img):\n",
    "    for detection in detections:\n",
    "        x, y, w, h = detection[2][0],\\\n",
    "            detection[2][1],\\\n",
    "            detection[2][2],\\\n",
    "            detection[2][3]\n",
    "        xmin, ymin, xmax, ymax = convertBack(\n",
    "            float(x), float(y), float(w), float(h))\n",
    "        pt1 = (xmin, ymin)\n",
    "        pt2 = (xmax, ymax)\n",
    "        if (detection[0].decode() == \"head\"):\n",
    "            cv2.rectangle(img, pt1, pt2, (255, 0, 0), 1)\n",
    "            cv2.putText(img,\n",
    "                        detection[0].decode() +\n",
    "                        \" [\" + str(round(detection[1] * 100, 2)) + \"]\",\n",
    "                        (pt1[0], pt1[1] - 5), cv2.FONT_HERSHEY_SIMPLEX, 0.5,\n",
    "                        [255, 0, 0], 2)\n",
    "        else:\n",
    "            cv2.rectangle(img, pt1, pt2, (0, 255, 0), 1)\n",
    "            cv2.putText(img,\n",
    "                        detection[0].decode() +\n",
    "                        \" [\" + str(round(detection[1] * 100, 2)) + \"]\",\n",
    "                        (pt1[0], pt1[1] - 5), cv2.FONT_HERSHEY_SIMPLEX, 0.5,\n",
    "                        [0, 255, 0], 2)\n",
    "    return img\n"
   ]
  },
  {
   "cell_type": "code",
   "execution_count": 3,
   "metadata": {},
   "outputs": [],
   "source": [
    "def drawImage(img, tofile=False, num=0):\n",
    "    \n",
    "    if (tofile):\n",
    "        cv2.imwrite(\"saved-%d.jpg\" % num, img)\n",
    "    else:\n",
    "        pilimg = Image.fromarray(img)\n",
    "        display(pilimg)\n",
    "        \n",
    "def saveImage(img, num=0):\n",
    "    img = cv2.cvtColor(img, cv2.COLOR_BGR2RGB)\n",
    "    cv2.imwrite(\"saved-%d.jpg\" % num, img)"
   ]
  },
  {
   "cell_type": "code",
   "execution_count": 4,
   "metadata": {},
   "outputs": [],
   "source": [
    "netMain = None\n",
    "metaMain = None\n",
    "altNames = None"
   ]
  },
  {
   "cell_type": "code",
   "execution_count": 5,
   "metadata": {},
   "outputs": [],
   "source": [
    "def detect(image):\n",
    "\n",
    "    global metaMain, netMain, altNames\n",
    "    \n",
    "    configPath = \"./yolov4-helmet-detection.cfg\"\n",
    "    weightPath = \"./yolov4-helmet-detection.weights\"\n",
    "    metaPath = \"./yolov4-helmet-detection.data\"\n",
    "\n",
    "    if netMain is None:\n",
    "        netMain = darknet.load_net_custom(configPath.encode(\"ascii\"), weightPath.encode(\"ascii\"), 0, 1)  # batch size = 1\n",
    "    if metaMain is None:\n",
    "        metaMain = darknet.load_meta(metaPath.encode(\"ascii\"))\n",
    "\n",
    "    # Create an image we reuse for each detect\n",
    "    darknet_image = darknet.make_image(darknet.network_width(netMain),\n",
    "                                    darknet.network_height(netMain),3)\n",
    "\n",
    "    darknet.copy_image_from_bytes(darknet_image, image.tobytes())\n",
    "\n",
    "    detections = darknet.detect_image(netMain, metaMain, darknet_image, thresh=0.25)\n",
    "\n",
    "    return detections"
   ]
  },
  {
   "cell_type": "code",
   "execution_count": 6,
   "metadata": {},
   "outputs": [],
   "source": [
    "imagepath = \"sample2.jpg\""
   ]
  },
  {
   "cell_type": "code",
   "execution_count": 7,
   "metadata": {},
   "outputs": [],
   "source": [
    "img = cv2.imread(imagepath)\n",
    "\n",
    "image_size = img.shape\n",
    "network_image_size = (416, 416)\n",
    "image_rgb = cv2.cvtColor(img, cv2.COLOR_BGR2RGB)\n",
    "\n",
    "# network image size (416*416, ...)\n",
    "image_resized = cv2.resize(image_rgb, (416, 416), interpolation=cv2.INTER_LINEAR)\n",
    "\n",
    "#saveImage(image_resized, 2)"
   ]
  },
  {
   "cell_type": "code",
   "execution_count": 8,
   "metadata": {},
   "outputs": [
    {
     "name": "stdout",
     "output_type": "stream",
     "text": [
      "CPU times: user 2.24 s, sys: 746 ms, total: 2.99 s\n",
      "Wall time: 4.11 s\n"
     ]
    }
   ],
   "source": [
    "%%time\n",
    "\n",
    "detections = detect(image_resized)"
   ]
  },
  {
   "cell_type": "code",
   "execution_count": 9,
   "metadata": {},
   "outputs": [
    {
     "name": "stdout",
     "output_type": "stream",
     "text": [
      "b'helmet' 0.9973575472831726 (117.57293701171875, 176.67514038085938, 54.27720260620117, 128.32260131835938)\n",
      "b'helmet' 0.9905349612236023 (177.47865295410156, 204.83558654785156, 47.36790466308594, 105.55615234375)\n",
      "b'helmet' 0.9709359407424927 (240.6058349609375, 188.94381713867188, 50.24748611450195, 105.96436309814453)\n"
     ]
    }
   ],
   "source": [
    "for d in detections:\n",
    "    print(d[0], d[1], d[2])"
   ]
  },
  {
   "cell_type": "code",
   "execution_count": 17,
   "metadata": {},
   "outputs": [
    {
     "data": {
      "text/plain": [
       "bytes"
      ]
     },
     "execution_count": 17,
     "metadata": {},
     "output_type": "execute_result"
    }
   ],
   "source": [
    "type(detections[0][0])"
   ]
  },
  {
   "cell_type": "code",
   "execution_count": 20,
   "metadata": {},
   "outputs": [
    {
     "name": "stdout",
     "output_type": "stream",
     "text": [
      "{\"inferences\": [{\"type\": \"entity\", \"entity\": {\"tag\": {\"value\": \"helmet\", \"confidence\": 0.9974}, \"box\": {\"l\": 117, \"t\": 176, \"w\": 54, \"h\": 128}}}, {\"type\": \"entity\", \"entity\": {\"tag\": {\"value\": \"helmet\", \"confidence\": 0.9905}, \"box\": {\"l\": 177, \"t\": 204, \"w\": 47, \"h\": 105}}}, {\"type\": \"entity\", \"entity\": {\"tag\": {\"value\": \"helmet\", \"confidence\": 0.9709}, \"box\": {\"l\": 240, \"t\": 188, \"w\": 50, \"h\": 105}}}]}\n"
     ]
    }
   ],
   "source": [
    "results = []\n",
    "for d in detections:\n",
    "    r = {\n",
    "        \"type\": \"entity\",\n",
    "        \"entity\": {\n",
    "            \"tag\": {\n",
    "                \"value\" : d[0].decode('utf-8'),\n",
    "                \"confidence\": round(d[1], 4),\n",
    "            },\n",
    "            \"box\" : {\n",
    "                \"l\" : int(d[2][0]),\n",
    "                \"t\" : int(d[2][1]),\n",
    "                \"w\" : int(d[2][2]),\n",
    "                \"h\" : int(d[2][3])\n",
    "            }\n",
    "        }\n",
    "    }\n",
    "    results.append(r)\n",
    "    \n",
    "respBody = {\n",
    "    \"inferences\" : results\n",
    "}\n",
    "\n",
    "respBody = json.dumps(respBody)\n",
    "print(respBody)"
   ]
  },
  {
   "cell_type": "code",
   "execution_count": null,
   "metadata": {},
   "outputs": [],
   "source": [
    "detections = resizeDetections(image_size, network_image_size, detections)\n",
    "\n",
    "detect_image = cvDrawBoxes(detections, image_rgb)"
   ]
  },
  {
   "cell_type": "code",
   "execution_count": null,
   "metadata": {},
   "outputs": [],
   "source": [
    "drawImage(detect_image)"
   ]
  },
  {
   "cell_type": "code",
   "execution_count": null,
   "metadata": {},
   "outputs": [],
   "source": [
    "type(detect)"
   ]
  },
  {
   "cell_type": "code",
   "execution_count": null,
   "metadata": {},
   "outputs": [],
   "source": [
    "netMain = None\n",
    "metaMain = None\n",
    "altNames = None\n",
    "\n",
    "def YOLO(imagepath):\n",
    "\n",
    "    global metaMain, netMain, altNames\n",
    "    \n",
    "    configPath = \"./configs/yolov4-helmet-detection.cfg\"\n",
    "    weightPath = \"./configs/yolov4-helmet-detection.weights\"\n",
    "    metaPath = \"./configs/yolov4-helmet-detection.data\"\n",
    "\n",
    "    if not os.path.exists(configPath):\n",
    "        raise ValueError(\"Invalid config path `\" +\n",
    "                         os.path.abspath(configPath)+\"`\")\n",
    "    if not os.path.exists(weightPath):\n",
    "        raise ValueError(\"Invalid weight path `\" +\n",
    "                         os.path.abspath(weightPath)+\"`\")\n",
    "    if not os.path.exists(metaPath):\n",
    "        raise ValueError(\"Invalid data file path `\" +\n",
    "                         os.path.abspath(metaPath)+\"`\")\n",
    "    if netMain is None:\n",
    "        netMain = darknet.load_net_custom(configPath.encode(\n",
    "            \"ascii\"), weightPath.encode(\"ascii\"), 0, 1)  # batch size = 1\n",
    "    if metaMain is None:\n",
    "        metaMain = darknet.load_meta(metaPath.encode(\"ascii\"))\n",
    "    if altNames is None:\n",
    "        try:\n",
    "            with open(metaPath) as metaFH:\n",
    "                metaContents = metaFH.read()\n",
    "                import re\n",
    "                match = re.search(\"names *= *(.*)$\", metaContents,\n",
    "                                  re.IGNORECASE | re.MULTILINE)\n",
    "                if match:\n",
    "                    result = match.group(1)\n",
    "                else:\n",
    "                    result = None\n",
    "                try:\n",
    "                    if os.path.exists(result):\n",
    "                        with open(result) as namesFH:\n",
    "                            namesList = namesFH.read().strip().split(\"\\n\")\n",
    "                            altNames = [x.strip() for x in namesList]\n",
    "                except TypeError:\n",
    "                    pass\n",
    "        except Exception:\n",
    "            pass\n",
    "\n",
    "    if not os.path.exists(\"outputs\"):\n",
    "        os.mkdir(\"outputs\")\n",
    "\n",
    "    # load video file / streams\n",
    "    image = cv2.imread(imagepath)\n",
    "\n",
    "    print(\"Starting the YOLO loop...\")\n",
    "\n",
    "    # Create an image we reuse for each detect\n",
    "    darknet_image = darknet.make_image(darknet.network_width(netMain),\n",
    "                                    darknet.network_height(netMain),3)\n",
    "    # network image size (416*416, ...)\n",
    "    network_image_size = (darknet.network_width(netMain),\n",
    "                          darknet.network_height(netMain))\n",
    "    image_rgb = cv2.cvtColor(image, cv2.COLOR_BGR2RGB)\n",
    "    image_resized = cv2.resize(image_rgb,\n",
    "                               network_image_size,\n",
    "                               interpolation=cv2.INTER_LINEAR)\n",
    "\n",
    "    darknet.copy_image_from_bytes(darknet_image, image_resized.tobytes())\n",
    "\n",
    "    detections = darknet.detect_image(netMain, metaMain, darknet_image, thresh=0.25)\n",
    "    detections = resizeDetections(image.shape, network_image_size, detections)\n",
    "    \n",
    "    detect_image = cvDrawBoxes(detections, image_rgb)\n",
    "    detect_image = cv2.cvtColor(detect_image, cv2.COLOR_BGR2RGB)\n",
    "\n",
    "    cv2.imshow(\"detected\", detect_image)\n",
    "    cv2.imwrite(\"output.jpg\", detect_image)\n",
    "\n",
    "    while True:\n",
    "        # press 'q' to quit\n",
    "        if cv2.waitKey(1) == ord('q'):\n",
    "            break\n",
    "    cv2.destroyAllWindows()\n"
   ]
  },
  {
   "cell_type": "markdown",
   "metadata": {},
   "source": [
    "## app test"
   ]
  },
  {
   "cell_type": "code",
   "execution_count": null,
   "metadata": {},
   "outputs": [],
   "source": [
    "!curl -X POST -H \"Content-type: image/jpeg\" --data-binary @\"saved-1.jpg\" localhost:8089/score"
   ]
  }
 ],
 "metadata": {
  "kernelspec": {
   "display_name": "Python 3",
   "language": "python",
   "name": "python3"
  },
  "language_info": {
   "codemirror_mode": {
    "name": "ipython",
    "version": 3
   },
   "file_extension": ".py",
   "mimetype": "text/x-python",
   "name": "python",
   "nbconvert_exporter": "python",
   "pygments_lexer": "ipython3",
   "version": "3.8.3"
  }
 },
 "nbformat": 4,
 "nbformat_minor": 4
}
