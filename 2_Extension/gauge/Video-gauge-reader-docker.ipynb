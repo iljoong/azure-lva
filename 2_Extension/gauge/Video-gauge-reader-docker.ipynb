{
 "cells": [
  {
   "cell_type": "markdown",
   "metadata": {},
   "source": [
    "## Video analog gauge reader with API app\n",
    "\n",
    "sample notebook for live detecton of analog gauge with API app (docker)"
   ]
  },
  {
   "cell_type": "code",
   "execution_count": null,
   "metadata": {},
   "outputs": [],
   "source": [
    "import cv2\n",
    "import numpy as np\n",
    "import time\n",
    "import io\n",
    "import json\n",
    "import requests\n",
    "\n",
    "from gauge_reader import detectCircle, detectLine, get_current_value\n",
    "from gauge_utils import drawImage, cropImage"
   ]
  },
  {
   "cell_type": "markdown",
   "metadata": {},
   "source": [
    "### Run docker app\n",
    "\n",
    "```\n",
    "docker run --name gaugereader -e \"ROI=196,98,467,360\" -e \"MINMAXMETER=40,310,0,100\" -e \"MINLINELENGTH=50\" -p 8080:8080 -d gaugereader\n",
    "```"
   ]
  },
  {
   "cell_type": "code",
   "execution_count": null,
   "metadata": {},
   "outputs": [],
   "source": [
    "def gauge_reader(frame):\n",
    "    url = \"http://localhost:8080/score\"\n",
    "\n",
    "    headers = {\"Content-Type\": \"image/jpeg\" }\n",
    "\n",
    "    try:\n",
    "        r = requests.post(url, headers=headers, data=frame)\n",
    "        j = json.loads(r.content.decode(\"utf-8\"))\n",
    "        return j\n",
    "    except:\n",
    "        return json.loads(\"{\\\"value\\\": 0.0}\")"
   ]
  },
  {
   "cell_type": "code",
   "execution_count": null,
   "metadata": {},
   "outputs": [],
   "source": [
    "%%time\n",
    "# test docker app\n",
    "gauge_img = './captured.jpg'\n",
    "url = \"http://localhost:8080/score\"\n",
    "headers = {\"Content-Type\": \"image/jpeg\" }\n",
    "\n",
    "with open(gauge_img, 'rb') as roi:\n",
    "    r = requests.post(url, headers=headers, data=roi)\n",
    "    \n",
    "    pred = json.loads(r.content.decode(\"utf-8\"))\n",
    "\n",
    "print(pred[\"value\"])"
   ]
  },
  {
   "cell_type": "markdown",
   "metadata": {},
   "source": [
    "### Live detection with API"
   ]
  },
  {
   "cell_type": "code",
   "execution_count": null,
   "metadata": {},
   "outputs": [],
   "source": [
    "### capture camera\n",
    "#cap = cv2.VideoCapture(0)\n",
    "#cap = cv2.VideoCapture(\"rtsp://192.168.50.72\")\n",
    "cap = cv2.VideoCapture(\"./sample/sample.avi\")\n",
    "\n",
    "# img resolution 640x480\n",
    "#print('width: {0}, height: {1}'.format(cap.get(3),cap.get(4)))\n",
    "\n",
    "prev_time = 0\n",
    "FPS = 2\n",
    "fbuff = None\n",
    "\n",
    "while(True):\n",
    "    ret, frame = cap.read()\n",
    "    curr_time = time.time() - prev_time\n",
    "    if (ret) and (curr_time > 1./FPS):\n",
    "        prev_time = time.time()\n",
    "                     \n",
    "        # encode img to jpg format\n",
    "        is_success, buffer = cv2.imencode(\".jpg\", frame)\n",
    "        io_buf = io.BytesIO(buffer)\n",
    "        pred = gauge_reader(io_buf)\n",
    "\n",
    "        # ignore undetected value\n",
    "        if (pred[\"value\"] > 0):\n",
    "            cv2.line(frame, (pred[\"line\"][\"x1\"], pred[\"line\"][\"y1\"]), (pred[\"line\"][\"x2\"], pred[\"line\"][\"y2\"]),(0, 255, 0), 2)            \n",
    "            cv2.putText(frame, \"Mem %.0f\" % pred[\"value\"], (10, 30), cv2.FONT_HERSHEY_SIMPLEX, 1, (0, 255, 0), 2, cv2.LINE_AA)\n",
    "            \n",
    "        cv2.imshow('frame', frame)\n",
    "\n",
    "        if cv2.waitKey(1) & 0xFF == ord('q'):\n",
    "            break\n",
    "    elif not ret:\n",
    "        break\n",
    "\n",
    "    # comment this if you're using live stream source\n",
    "    time.sleep(0.1)\n",
    "    \n",
    "cap.release()\n",
    "cv2.destroyAllWindows()\n"
   ]
  },
  {
   "cell_type": "code",
   "execution_count": null,
   "metadata": {},
   "outputs": [],
   "source": []
  }
 ],
 "metadata": {
  "kernelspec": {
   "display_name": "Python 3",
   "language": "python",
   "name": "python3"
  },
  "language_info": {
   "codemirror_mode": {
    "name": "ipython",
    "version": 3
   },
   "file_extension": ".py",
   "mimetype": "text/x-python",
   "name": "python",
   "nbconvert_exporter": "python",
   "pygments_lexer": "ipython3",
   "version": "3.8.3"
  }
 },
 "nbformat": 4,
 "nbformat_minor": 4
}
