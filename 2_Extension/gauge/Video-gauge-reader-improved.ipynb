{
 "cells": [
  {
   "cell_type": "markdown",
   "metadata": {},
   "source": [
    "## Video analog gauge reader - improved reading by removing shadow\n",
    "\n",
    "There are various noisy factors, such as shadow in a real field environment.\n",
    "You can improve analog reading by reducing shadow."
   ]
  },
  {
   "cell_type": "code",
   "execution_count": null,
   "metadata": {},
   "outputs": [],
   "source": [
    "import cv2\n",
    "import numpy as np\n",
    "import time\n",
    "\n",
    "from PIL import Image\n",
    "import matplotlib.pyplot as plt\n",
    "\n",
    "from gauge_reader import detectCircle, detectLine, get_current_value\n",
    "from gauge_utils import drawImage, cropImage, removeShadow"
   ]
  },
  {
   "cell_type": "code",
   "execution_count": null,
   "metadata": {},
   "outputs": [],
   "source": [
    "def readAnalogGauge(removeshadow=False):\n",
    "    cap = cv2.VideoCapture(sample_vid)\n",
    "\n",
    "    #print('width: {0}, height: {1}'.format(cap.get(3),cap.get(4)))\n",
    "\n",
    "    prev_time = 0\n",
    "    FPS = 2\n",
    "    fbuff = None\n",
    "\n",
    "    while(cap.isOpened()):\n",
    "        ret, frame = cap.read()\n",
    "        curr_time = time.time() - prev_time\n",
    "        if (ret) and (curr_time > 1./FPS):\n",
    "            prev_time = time.time()\n",
    "\n",
    "            #gray = cv2.cvtColor(frame, cv2.COLOR_BGR2GRAY)       \n",
    "            try:\n",
    "                img = frame[cy1:cy2, cx1:cx2]\n",
    "                if (removeshadow):\n",
    "                    img = removeShadow(img)\n",
    "\n",
    "                x, y, r = detectCircle(img, min_r, max_r)\n",
    "\n",
    "                final_line_list = detectLine(img, x, y, r, 50)\n",
    "\n",
    "                value = 0\n",
    "                if (len(final_line_list) > 0):\n",
    "                    value = get_current_value(img, final_line_list, min_angle, max_angle, min_value, max_value, x, y, r)\n",
    "\n",
    "                    x1 = final_line_list[0][0]+cx1\n",
    "                    y1 = final_line_list[0][1]+cy1\n",
    "                    x2 = final_line_list[0][2]+cx1\n",
    "                    y2 = final_line_list[0][3]+cy1\n",
    "                    cv2.line(frame, (x1, y1), (x2, y2),(0, 255, 0), 2)            \n",
    "\n",
    "                    cv2.putText(frame, \"Mem %.0f %s\" % (value, units), (10, 30), cv2.FONT_HERSHEY_SIMPLEX, 1, (0, 255, 0), 2, cv2.LINE_AA)\n",
    "\n",
    "                    # highlights\n",
    "                    cv2.imshow('frame', frame)\n",
    "\n",
    "            except:\n",
    "                print(\"exception occured\")\n",
    "\n",
    "            # highlights\n",
    "            cv2.imshow('frame', frame)\n",
    "\n",
    "\n",
    "            if cv2.waitKey(1) & 0xFF == ord('q'):\n",
    "                break\n",
    "        elif not ret:\n",
    "            break\n",
    "\n",
    "        # comment this if you're using live stream source\n",
    "        time.sleep(0.1)\n",
    "\n",
    "    cap.release()\n",
    "    cv2.destroyAllWindows()"
   ]
  },
  {
   "cell_type": "markdown",
   "metadata": {},
   "source": [
    "### capture video source\n",
    "\n",
    "capture video source to get ROI"
   ]
  },
  {
   "cell_type": "code",
   "execution_count": null,
   "metadata": {},
   "outputs": [],
   "source": [
    "# sample saved image \n",
    "gauge_img = './_captured.jpg'\n",
    "sample_vid = './sample/pressure.mp4'"
   ]
  },
  {
   "cell_type": "code",
   "execution_count": null,
   "metadata": {},
   "outputs": [],
   "source": [
    "### capture camera\n",
    "###  q: quit\n",
    "###  c: capture\n",
    "\n",
    "cap = cv2.VideoCapture(sample_vid)\n",
    "\n",
    "print('width: {0}, height: {1}'.format(cap.get(3),cap.get(4)))\n",
    "\n",
    "while(cap.isOpened()):\n",
    "    ret, frame = cap.read()\n",
    "    if (ret):\n",
    "        \n",
    "        cv2.imshow('frame', frame)\n",
    "        \n",
    "        key = cv2.waitKey(1) & 0xFF\n",
    "            \n",
    "        if (key == ord('q')):\n",
    "            break\n",
    "        elif (key == ord('c')):\n",
    "            cv2.imwrite(gauge_img, frame)\n",
    "            break\n",
    "            \n",
    "    # comment this if you're using live stream source\n",
    "    time.sleep(0.1)\n",
    "    \n",
    "cap.release()\n",
    "cv2.destroyAllWindows()"
   ]
  },
  {
   "cell_type": "markdown",
   "metadata": {},
   "source": [
    "### verify detection"
   ]
  },
  {
   "cell_type": "code",
   "execution_count": null,
   "metadata": {},
   "outputs": [],
   "source": [
    "#for testing purposes: hardcode and comment out raw_inputs above\n",
    "min_r = 0.35\n",
    "max_r = 0.48\n",
    "\n",
    "min_angle = 0\n",
    "max_angle = 340\n",
    "min_value = 0\n",
    "max_value = 300\n",
    "units = \"mmHg\""
   ]
  },
  {
   "cell_type": "code",
   "execution_count": null,
   "metadata": {},
   "outputs": [],
   "source": [
    "full_img = cv2.imread(gauge_img)\n",
    "\n",
    "# crop image to get ROI\n",
    "pt = cropImage(full_img)\n",
    "\n",
    "img = full_img[pt[0][1]:pt[1][1], pt[0][0]:pt[1][0]]\n",
    "drawImage(img)\n",
    "\n",
    "drawImage( removeShadow(img) )\n",
    "\n",
    "#cimg = full_img.copy()\n",
    "#cv2.rectangle(cimg, (pt[0][0],pt[0][1]), (pt[1][0],pt[1][1]),(0, 255, 0), 2)\n",
    "#drawImage(cimg)\n",
    "\n",
    "# get ROI\n",
    "print(\"%d, %d, %d, %d\" % (pt[0][0],pt[0][1], pt[1][0],pt[1][1]))\n",
    "cx1 = pt[0][0]\n",
    "cy1 = pt[0][1]\n",
    "cx2 = pt[1][0]\n",
    "cy2 = pt[1][1]"
   ]
  },
  {
   "cell_type": "raw",
   "metadata": {},
   "source": [
    "cx1 = 298\n",
    "cy1 = 0\n",
    "cx2 = 1065\n",
    "cy2 = 720"
   ]
  },
  {
   "cell_type": "code",
   "execution_count": null,
   "metadata": {},
   "outputs": [],
   "source": [
    "# parameters\n",
    "## min/max radius for detecting circle\n",
    "min_r = 0.35\n",
    "max_r = 0.48\n",
    "\n",
    "min_angle = 0\n",
    "max_angle = 340\n",
    "min_value = 0\n",
    "max_value = 300\n",
    "units = \"mmHg\"\n",
    "\n",
    "x, y, r = detectCircle(img, min_r, max_r, True, False)\n",
    "\n",
    "# fine tune parameter minLineLength = 50 (default 100)\n",
    "final_line_list = detectLine(img, x, y, r, 50, True, True, False)\n",
    "\n",
    "if (len(final_line_list) > 0):\n",
    "    value = get_current_value(img, final_line_list, min_angle, max_angle, min_value, max_value, x, y, r)\n",
    "    print(\"Reading: %.0f %s\" % (value, units))\n",
    "else:\n",
    "    print(\"no detection\")"
   ]
  },
  {
   "cell_type": "code",
   "execution_count": null,
   "metadata": {},
   "outputs": [],
   "source": [
    "# parameters\n",
    "## min/max radius for detecting circle\n",
    "min_r = 0.35\n",
    "max_r = 0.48\n",
    "\n",
    "min_angle = 0\n",
    "max_angle = 340\n",
    "min_value = 0\n",
    "max_value = 300\n",
    "units = \"mmHg\"\n",
    "\n",
    "# removing shadow\n",
    "img = removeShadow(img)\n",
    "\n",
    "x, y, r = detectCircle(img, min_r, max_r, True, False)\n",
    "\n",
    "# fine tune parameter minLineLength = 50 (default 100)\n",
    "final_line_list = detectLine(img, x, y, r, 50, True, True, False)\n",
    "\n",
    "if (len(final_line_list) > 0):\n",
    "    value = get_current_value(img, final_line_list, min_angle, max_angle, min_value, max_value, x, y, r)\n",
    "    print(\"Reading: %.0f %s\" % (value, units))\n",
    "else:\n",
    "    print(\"no detection\")"
   ]
  },
  {
   "cell_type": "markdown",
   "metadata": {},
   "source": [
    "### Live detection"
   ]
  },
  {
   "cell_type": "code",
   "execution_count": null,
   "metadata": {},
   "outputs": [],
   "source": [
    "readAnalogGauge()"
   ]
  },
  {
   "cell_type": "markdown",
   "metadata": {},
   "source": [
    "### Live detection (remove shadow)"
   ]
  },
  {
   "cell_type": "code",
   "execution_count": null,
   "metadata": {},
   "outputs": [],
   "source": [
    "readAnalogGauge(True)"
   ]
  }
 ],
 "metadata": {
  "kernelspec": {
   "display_name": "Python 3",
   "language": "python",
   "name": "python3"
  },
  "language_info": {
   "codemirror_mode": {
    "name": "ipython",
    "version": 3
   },
   "file_extension": ".py",
   "mimetype": "text/x-python",
   "name": "python",
   "nbconvert_exporter": "python",
   "pygments_lexer": "ipython3",
   "version": "3.8.3"
  }
 },
 "nbformat": 4,
 "nbformat_minor": 4
}
